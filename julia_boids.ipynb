{
 "cells": [
  {
   "cell_type": "code",
   "execution_count": 2,
   "metadata": {},
   "outputs": [],
   "source": [
    "using Random;\n",
    "using Plots;\n",
    "using LinearAlgebra;\n",
    "gr()\n",
    "using Statistics;"
   ]
  },
  {
   "cell_type": "code",
   "execution_count": 3,
   "metadata": {},
   "outputs": [],
   "source": [
    "Random.seed!(0);"
   ]
  },
  {
   "cell_type": "code",
   "execution_count": 4,
   "metadata": {},
   "outputs": [
    {
     "data": {
      "text/plain": [
       "cohesion_F (generic function with 1 method)"
      ]
     },
     "execution_count": 4,
     "metadata": {},
     "output_type": "execute_result"
    }
   ],
   "source": [
    "# 群れ中心へ進行する力\n",
    "function cohesion_F(Δ)\n",
    "\n",
    "    α = 2.0;\n",
    "    \n",
    "    F = α * Δ;\n",
    "    \n",
    "    return F;\n",
    "    \n",
    "end"
   ]
  },
  {
   "cell_type": "code",
   "execution_count": 5,
   "metadata": {},
   "outputs": [
    {
     "data": {
      "text/plain": [
       "ahead_F (generic function with 1 method)"
      ]
     },
     "execution_count": 5,
     "metadata": {},
     "output_type": "execute_result"
    }
   ],
   "source": [
    "# 同一方向へ進行する力\n",
    "function ahead_F(Δ)\n",
    "\n",
    "    α = 0.5;    \n",
    "    \n",
    "    F = α * Δ;\n",
    "    \n",
    "    return F;\n",
    "    \n",
    "end"
   ]
  },
  {
   "cell_type": "code",
   "execution_count": 6,
   "metadata": {},
   "outputs": [
    {
     "data": {
      "text/plain": [
       "avoid_F (generic function with 1 method)"
      ]
     },
     "execution_count": 6,
     "metadata": {},
     "output_type": "execute_result"
    }
   ],
   "source": [
    "# 回避行動\n",
    "function avoid_F(boids)\n",
    "    \n",
    "    @simd for i in 1:length(boids)\n",
    "    \n",
    "        # 自分とは比較しない\n",
    "        neighbour = [boid for boid in boids if boid != boids[i]];\n",
    "        \n",
    "        # 隣のboidとの距離を算出し、分離するようにする。\n",
    "        # boidごとに、現在地から、中心点への位置ベクトルを算出\n",
    "        @simd for n in 1:length(neighbour)\n",
    "\n",
    "            @inbounds to_neighbour_agent = boids[i].pos - neighbour[n].pos;\n",
    "            \n",
    "            # 距離\n",
    "            distance = norm(to_neighbour_agent);\n",
    "\n",
    "            avoid_distance = boids[i].radius + neighbour[n].radius - distance;\n",
    "\n",
    "            if avoid_distance > 0\n",
    "\n",
    "                @inbounds boids[i].pos = boids[i].pos + (to_neighbour_agent / distance) * avoid_distance;\n",
    "                \n",
    "            end\n",
    "        end\n",
    "    end\n",
    "    \n",
    "end"
   ]
  },
  {
   "cell_type": "code",
   "execution_count": 7,
   "metadata": {},
   "outputs": [
    {
     "data": {
      "text/plain": [
       "random_F (generic function with 1 method)"
      ]
     },
     "execution_count": 7,
     "metadata": {},
     "output_type": "execute_result"
    }
   ],
   "source": [
    "# ランダム行動\n",
    "#function random_F(F,xmin, xmax, ymin, ymax)\n",
    "function random_F(F)\n",
    "\n",
    "    α = 1.0;\n",
    "    \n",
    "    F = vec([α * rand() * F[1], α * rand() * F[2]]);\n",
    "    \n",
    "    return F;\n",
    "    \n",
    "end"
   ]
  },
  {
   "cell_type": "code",
   "execution_count": 8,
   "metadata": {},
   "outputs": [
    {
     "data": {
      "text/plain": [
       "seperate_F (generic function with 1 method)"
      ]
     },
     "execution_count": 8,
     "metadata": {},
     "output_type": "execute_result"
    }
   ],
   "source": [
    "# 分離行動\n",
    "function seperate_F(i, boids, pos)\n",
    "\n",
    "    F = vec([0.0, 0.0]);\n",
    "    \n",
    "    neighbor = [boid for boid in boids if boid != boids[i]];\n",
    "    \n",
    "    # 隣のboidとの距離を算出し、分離するようにする。\n",
    "    # boidごとに、現在地から、中心点への位置ベクトルを算出\n",
    "    @simd for n in 1:length(neighbor)\n",
    "        \n",
    "        @inbounds to_neighbor_agent = pos - neighbor[n].pos;\n",
    "        \n",
    "        F = F + normalize(vec(to_neighbor_agent)) / norm(to_neighbor_agent);\n",
    "\n",
    "    end\n",
    "    \n",
    "    return F;\n",
    "    \n",
    "end"
   ]
  },
  {
   "cell_type": "code",
   "execution_count": 9,
   "metadata": {},
   "outputs": [
    {
     "data": {
      "text/plain": [
       "calculate_F (generic function with 1 method)"
      ]
     },
     "execution_count": 9,
     "metadata": {},
     "output_type": "execute_result"
    }
   ],
   "source": [
    "# Fの合力を算出する\n",
    "function calculate_F(i, boid, pos, Δ, total_ahead_Δ)\n",
    "\n",
    "    F = vec([0.0, 0.0]);\n",
    "    \n",
    "    # 同一方向へ移動\n",
    "    F = F + ahead_F(total_ahead_Δ);\n",
    "    \n",
    "    # 分離行動\n",
    "    F = F + seperate_F(i, boid, pos);\n",
    "    \n",
    "    # 集約行動\n",
    "    F = F + cohesion_F(Δ);\n",
    "    \n",
    "    # ランダムな行動\n",
    "    F = F + random_F(F);\n",
    "    \n",
    "    return F;\n",
    "    \n",
    "end"
   ]
  },
  {
   "cell_type": "code",
   "execution_count": 10,
   "metadata": {},
   "outputs": [
    {
     "data": {
      "text/plain": [
       "decide_boid_action (generic function with 1 method)"
      ]
     },
     "execution_count": 10,
     "metadata": {},
     "output_type": "execute_result"
    }
   ],
   "source": [
    "# boidの振る舞いを決定\n",
    "function decide_boid_action(boid, dt)\n",
    "\n",
    "    # boid全体の中心点を算出実施\n",
    "    sum = vec([0.0, 0.0]);\n",
    "\n",
    "    @simd for i in 1:length(boid)\n",
    "        @inbounds sum = sum + boid[i].pos;\n",
    "    end\n",
    "    \n",
    "    center = sum / length(boid);\n",
    "    \n",
    "    total_ahead_Δx_y = vec([0,0]);\n",
    "    \n",
    "    # Boidインスタンスごとに、現在地から、群れ中心点への位置ベクトルを算出\n",
    "    # Boid群の移動方向を算出\n",
    "    @simd for i in 1:length(boid)\n",
    "\n",
    "        @inbounds boid[i].Δx_y = center - boid[i].pos;\n",
    "        @inbounds total_ahead_Δx_y = total_ahead_Δx_y + boid[i].spd;\n",
    "    \n",
    "    end\n",
    "\n",
    "    total_ahead_Δx_y = total_ahead_Δx_y / length(boid);    \n",
    "    \n",
    "    # F = m a モデル (a = F / m)で 、速度を算出する\n",
    "    # ここで、Fは位置ベクトルの大きさに比例するものとする\n",
    "    @simd for i in 1:length(boid)\n",
    "\n",
    "        # 力の演算\n",
    "        F = calculate_F(i, boid, boid[i].pos, boid[i].Δx_y, total_ahead_Δx_y);\n",
    "        \n",
    "        # 加速度の計算実施\n",
    "        acc = F / boid[i].massive;\n",
    "        \n",
    "        # 速度計算\n",
    "        @inbounds boid[i].spd = boid[i].spd + acc * dt;\n",
    "        @inbounds boid[i].pos = boid[i].pos + boid[i].spd * dt;\n",
    "        \n",
    "    end\n",
    "\n",
    "    # 回避行動\n",
    "    avoid_F(boid);\n",
    "    \n",
    "end"
   ]
  },
  {
   "cell_type": "code",
   "execution_count": 11,
   "metadata": {},
   "outputs": [],
   "source": [
    "# boidの構造体\n",
    "mutable struct boid\n",
    "\n",
    "    # 速度\n",
    "    spd;\n",
    "    # 位置\n",
    "    pos;\n",
    "    # Boidと集団の中心との距離差分ベクトル\n",
    "    Δx_y;    \n",
    "    # 質量\n",
    "    massive::Float64;\n",
    "    # 半径\n",
    "    radius::Float64;\n",
    "    boid() = new();\n",
    "    \n",
    "end"
   ]
  },
  {
   "cell_type": "code",
   "execution_count": 12,
   "metadata": {},
   "outputs": [
    {
     "data": {
      "text/plain": [
       "initial_boid (generic function with 1 method)"
      ]
     },
     "execution_count": 12,
     "metadata": {},
     "output_type": "execute_result"
    }
   ],
   "source": [
    "# boidの初期化\n",
    "function initial_boid(Boids, n)\n",
    "    @simd for i in 1:n\n",
    "\n",
    "        Boids[i] = boid();\n",
    "        Boids[i].spd  = vec(100.0 * randn(1,2));\n",
    "        Boids[i].Δx_y = vec([0.0, 0.0]);\n",
    "        Boids[i].pos  = vec(100.0 * randn(1,2));\n",
    "        Boids[i].massive = 50.0 * abs(rand());\n",
    "        Boids[i].radius  = 50.0 * abs(rand());\n",
    "\n",
    "    end\n",
    "end"
   ]
  },
  {
   "cell_type": "code",
   "execution_count": 13,
   "metadata": {
    "scrolled": true
   },
   "outputs": [
    {
     "data": {
      "image/svg+xml": [
       "<?xml version=\"1.0\" encoding=\"utf-8\"?>\n",
       "<svg xmlns=\"http://www.w3.org/2000/svg\" xmlns:xlink=\"http://www.w3.org/1999/xlink\" width=\"600\" height=\"400\" viewBox=\"0 0 2400 1600\">\n",
       "<defs>\n",
       "  <clipPath id=\"clip7700\">\n",
       "    <rect x=\"0\" y=\"0\" width=\"2400\" height=\"1600\"/>\n",
       "  </clipPath>\n",
       "</defs>\n",
       "<polygon clip-path=\"url(#clip7700)\" points=\"\n",
       "0,1600 2400,1600 2400,0 0,0 \n",
       "  \" fill=\"#ffffff\" fill-rule=\"evenodd\" fill-opacity=\"1\"/>\n",
       "<defs>\n",
       "  <clipPath id=\"clip7701\">\n",
       "    <rect x=\"480\" y=\"0\" width=\"1681\" height=\"1600\"/>\n",
       "  </clipPath>\n",
       "</defs>\n",
       "<polygon clip-path=\"url(#clip7700)\" points=\"\n",
       "195.389,1487.47 2352.76,1487.47 2352.76,47.2441 195.389,47.2441 \n",
       "  \" fill=\"#ffffff\" fill-rule=\"evenodd\" fill-opacity=\"1\"/>\n",
       "<defs>\n",
       "  <clipPath id=\"clip7702\">\n",
       "    <rect x=\"195\" y=\"47\" width=\"2158\" height=\"1441\"/>\n",
       "  </clipPath>\n",
       "</defs>\n",
       "<polyline clip-path=\"url(#clip7702)\" style=\"stroke:#000000; stroke-width:2; stroke-opacity:0.1; fill:none\" points=\"\n",
       "  287.844,1487.47 287.844,47.2441 \n",
       "  \"/>\n",
       "<polyline clip-path=\"url(#clip7702)\" style=\"stroke:#000000; stroke-width:2; stroke-opacity:0.1; fill:none\" points=\"\n",
       "  792.908,1487.47 792.908,47.2441 \n",
       "  \"/>\n",
       "<polyline clip-path=\"url(#clip7702)\" style=\"stroke:#000000; stroke-width:2; stroke-opacity:0.1; fill:none\" points=\"\n",
       "  1297.97,1487.47 1297.97,47.2441 \n",
       "  \"/>\n",
       "<polyline clip-path=\"url(#clip7702)\" style=\"stroke:#000000; stroke-width:2; stroke-opacity:0.1; fill:none\" points=\"\n",
       "  1803.04,1487.47 1803.04,47.2441 \n",
       "  \"/>\n",
       "<polyline clip-path=\"url(#clip7702)\" style=\"stroke:#000000; stroke-width:2; stroke-opacity:0.1; fill:none\" points=\"\n",
       "  2308.1,1487.47 2308.1,47.2441 \n",
       "  \"/>\n",
       "<polyline clip-path=\"url(#clip7702)\" style=\"stroke:#000000; stroke-width:2; stroke-opacity:0.1; fill:none\" points=\"\n",
       "  195.389,1359.89 2352.76,1359.89 \n",
       "  \"/>\n",
       "<polyline clip-path=\"url(#clip7702)\" style=\"stroke:#000000; stroke-width:2; stroke-opacity:0.1; fill:none\" points=\"\n",
       "  195.389,1065.05 2352.76,1065.05 \n",
       "  \"/>\n",
       "<polyline clip-path=\"url(#clip7702)\" style=\"stroke:#000000; stroke-width:2; stroke-opacity:0.1; fill:none\" points=\"\n",
       "  195.389,770.205 2352.76,770.205 \n",
       "  \"/>\n",
       "<polyline clip-path=\"url(#clip7702)\" style=\"stroke:#000000; stroke-width:2; stroke-opacity:0.1; fill:none\" points=\"\n",
       "  195.389,475.365 2352.76,475.365 \n",
       "  \"/>\n",
       "<polyline clip-path=\"url(#clip7702)\" style=\"stroke:#000000; stroke-width:2; stroke-opacity:0.1; fill:none\" points=\"\n",
       "  195.389,180.524 2352.76,180.524 \n",
       "  \"/>\n",
       "<polyline clip-path=\"url(#clip7700)\" style=\"stroke:#000000; stroke-width:4; stroke-opacity:1; fill:none\" points=\"\n",
       "  195.389,1487.47 2352.76,1487.47 \n",
       "  \"/>\n",
       "<polyline clip-path=\"url(#clip7700)\" style=\"stroke:#000000; stroke-width:4; stroke-opacity:1; fill:none\" points=\"\n",
       "  195.389,1487.47 195.389,47.2441 \n",
       "  \"/>\n",
       "<polyline clip-path=\"url(#clip7700)\" style=\"stroke:#000000; stroke-width:4; stroke-opacity:1; fill:none\" points=\"\n",
       "  287.844,1487.47 287.844,1465.87 \n",
       "  \"/>\n",
       "<polyline clip-path=\"url(#clip7700)\" style=\"stroke:#000000; stroke-width:4; stroke-opacity:1; fill:none\" points=\"\n",
       "  792.908,1487.47 792.908,1465.87 \n",
       "  \"/>\n",
       "<polyline clip-path=\"url(#clip7700)\" style=\"stroke:#000000; stroke-width:4; stroke-opacity:1; fill:none\" points=\"\n",
       "  1297.97,1487.47 1297.97,1465.87 \n",
       "  \"/>\n",
       "<polyline clip-path=\"url(#clip7700)\" style=\"stroke:#000000; stroke-width:4; stroke-opacity:1; fill:none\" points=\"\n",
       "  1803.04,1487.47 1803.04,1465.87 \n",
       "  \"/>\n",
       "<polyline clip-path=\"url(#clip7700)\" style=\"stroke:#000000; stroke-width:4; stroke-opacity:1; fill:none\" points=\"\n",
       "  2308.1,1487.47 2308.1,1465.87 \n",
       "  \"/>\n",
       "<polyline clip-path=\"url(#clip7700)\" style=\"stroke:#000000; stroke-width:4; stroke-opacity:1; fill:none\" points=\"\n",
       "  195.389,1359.89 227.75,1359.89 \n",
       "  \"/>\n",
       "<polyline clip-path=\"url(#clip7700)\" style=\"stroke:#000000; stroke-width:4; stroke-opacity:1; fill:none\" points=\"\n",
       "  195.389,1065.05 227.75,1065.05 \n",
       "  \"/>\n",
       "<polyline clip-path=\"url(#clip7700)\" style=\"stroke:#000000; stroke-width:4; stroke-opacity:1; fill:none\" points=\"\n",
       "  195.389,770.205 227.75,770.205 \n",
       "  \"/>\n",
       "<polyline clip-path=\"url(#clip7700)\" style=\"stroke:#000000; stroke-width:4; stroke-opacity:1; fill:none\" points=\"\n",
       "  195.389,475.365 227.75,475.365 \n",
       "  \"/>\n",
       "<polyline clip-path=\"url(#clip7700)\" style=\"stroke:#000000; stroke-width:4; stroke-opacity:1; fill:none\" points=\"\n",
       "  195.389,180.524 227.75,180.524 \n",
       "  \"/>\n",
       "<g clip-path=\"url(#clip7700)\">\n",
       "<text style=\"fill:#000000; fill-opacity:1; font-family:Arial,Helvetica Neue,Helvetica,sans-serif; font-size:48px; text-anchor:middle;\" transform=\"rotate(0, 287.844, 1541.47)\" x=\"287.844\" y=\"1541.47\">-200</text>\n",
       "</g>\n",
       "<g clip-path=\"url(#clip7700)\">\n",
       "<text style=\"fill:#000000; fill-opacity:1; font-family:Arial,Helvetica Neue,Helvetica,sans-serif; font-size:48px; text-anchor:middle;\" transform=\"rotate(0, 792.908, 1541.47)\" x=\"792.908\" y=\"1541.47\">-100</text>\n",
       "</g>\n",
       "<g clip-path=\"url(#clip7700)\">\n",
       "<text style=\"fill:#000000; fill-opacity:1; font-family:Arial,Helvetica Neue,Helvetica,sans-serif; font-size:48px; text-anchor:middle;\" transform=\"rotate(0, 1297.97, 1541.47)\" x=\"1297.97\" y=\"1541.47\">0</text>\n",
       "</g>\n",
       "<g clip-path=\"url(#clip7700)\">\n",
       "<text style=\"fill:#000000; fill-opacity:1; font-family:Arial,Helvetica Neue,Helvetica,sans-serif; font-size:48px; text-anchor:middle;\" transform=\"rotate(0, 1803.04, 1541.47)\" x=\"1803.04\" y=\"1541.47\">100</text>\n",
       "</g>\n",
       "<g clip-path=\"url(#clip7700)\">\n",
       "<text style=\"fill:#000000; fill-opacity:1; font-family:Arial,Helvetica Neue,Helvetica,sans-serif; font-size:48px; text-anchor:middle;\" transform=\"rotate(0, 2308.1, 1541.47)\" x=\"2308.1\" y=\"1541.47\">200</text>\n",
       "</g>\n",
       "<g clip-path=\"url(#clip7700)\">\n",
       "<text style=\"fill:#000000; fill-opacity:1; font-family:Arial,Helvetica Neue,Helvetica,sans-serif; font-size:48px; text-anchor:end;\" transform=\"rotate(0, 171.389, 1377.39)\" x=\"171.389\" y=\"1377.39\">-200</text>\n",
       "</g>\n",
       "<g clip-path=\"url(#clip7700)\">\n",
       "<text style=\"fill:#000000; fill-opacity:1; font-family:Arial,Helvetica Neue,Helvetica,sans-serif; font-size:48px; text-anchor:end;\" transform=\"rotate(0, 171.389, 1082.55)\" x=\"171.389\" y=\"1082.55\">-100</text>\n",
       "</g>\n",
       "<g clip-path=\"url(#clip7700)\">\n",
       "<text style=\"fill:#000000; fill-opacity:1; font-family:Arial,Helvetica Neue,Helvetica,sans-serif; font-size:48px; text-anchor:end;\" transform=\"rotate(0, 171.389, 787.705)\" x=\"171.389\" y=\"787.705\">0</text>\n",
       "</g>\n",
       "<g clip-path=\"url(#clip7700)\">\n",
       "<text style=\"fill:#000000; fill-opacity:1; font-family:Arial,Helvetica Neue,Helvetica,sans-serif; font-size:48px; text-anchor:end;\" transform=\"rotate(0, 171.389, 492.865)\" x=\"171.389\" y=\"492.865\">100</text>\n",
       "</g>\n",
       "<g clip-path=\"url(#clip7700)\">\n",
       "<text style=\"fill:#000000; fill-opacity:1; font-family:Arial,Helvetica Neue,Helvetica,sans-serif; font-size:48px; text-anchor:end;\" transform=\"rotate(0, 171.389, 198.024)\" x=\"171.389\" y=\"198.024\">200</text>\n",
       "</g>\n",
       "<circle clip-path=\"url(#clip7702)\" style=\"fill:#000000; stroke:none; fill-opacity:1\" cx=\"1119.68\" cy=\"809.965\" r=\"21\"/>\n",
       "<circle clip-path=\"url(#clip7702)\" style=\"fill:#009af9; stroke:none; fill-opacity:1\" cx=\"1119.68\" cy=\"809.965\" r=\"18\"/>\n",
       "<circle clip-path=\"url(#clip7702)\" style=\"fill:#000000; stroke:none; fill-opacity:1\" cx=\"1038.26\" cy=\"306.029\" r=\"21\"/>\n",
       "<circle clip-path=\"url(#clip7702)\" style=\"fill:#009af9; stroke:none; fill-opacity:1\" cx=\"1038.26\" cy=\"306.029\" r=\"18\"/>\n",
       "<circle clip-path=\"url(#clip7702)\" style=\"fill:#000000; stroke:none; fill-opacity:1\" cx=\"1123.04\" cy=\"825.509\" r=\"21\"/>\n",
       "<circle clip-path=\"url(#clip7702)\" style=\"fill:#009af9; stroke:none; fill-opacity:1\" cx=\"1123.04\" cy=\"825.509\" r=\"18\"/>\n",
       "<circle clip-path=\"url(#clip7702)\" style=\"fill:#000000; stroke:none; fill-opacity:1\" cx=\"1238.81\" cy=\"947.479\" r=\"21\"/>\n",
       "<circle clip-path=\"url(#clip7702)\" style=\"fill:#009af9; stroke:none; fill-opacity:1\" cx=\"1238.81\" cy=\"947.479\" r=\"18\"/>\n",
       "<circle clip-path=\"url(#clip7702)\" style=\"fill:#000000; stroke:none; fill-opacity:1\" cx=\"1117.22\" cy=\"630.535\" r=\"21\"/>\n",
       "<circle clip-path=\"url(#clip7702)\" style=\"fill:#009af9; stroke:none; fill-opacity:1\" cx=\"1117.22\" cy=\"630.535\" r=\"18\"/>\n",
       "<circle clip-path=\"url(#clip7702)\" style=\"fill:#000000; stroke:none; fill-opacity:1\" cx=\"1595.26\" cy=\"857.56\" r=\"21\"/>\n",
       "<circle clip-path=\"url(#clip7702)\" style=\"fill:#009af9; stroke:none; fill-opacity:1\" cx=\"1595.26\" cy=\"857.56\" r=\"18\"/>\n",
       "<circle clip-path=\"url(#clip7702)\" style=\"fill:#000000; stroke:none; fill-opacity:1\" cx=\"2101.34\" cy=\"358.295\" r=\"21\"/>\n",
       "<circle clip-path=\"url(#clip7702)\" style=\"fill:#009af9; stroke:none; fill-opacity:1\" cx=\"2101.34\" cy=\"358.295\" r=\"18\"/>\n",
       "<circle clip-path=\"url(#clip7702)\" style=\"fill:#000000; stroke:none; fill-opacity:1\" cx=\"551.548\" cy=\"824.875\" r=\"21\"/>\n",
       "<circle clip-path=\"url(#clip7702)\" style=\"fill:#009af9; stroke:none; fill-opacity:1\" cx=\"551.548\" cy=\"824.875\" r=\"18\"/>\n",
       "<circle clip-path=\"url(#clip7702)\" style=\"fill:#000000; stroke:none; fill-opacity:1\" cx=\"1748.14\" cy=\"1446.71\" r=\"21\"/>\n",
       "<circle clip-path=\"url(#clip7702)\" style=\"fill:#009af9; stroke:none; fill-opacity:1\" cx=\"1748.14\" cy=\"1446.71\" r=\"18\"/>\n",
       "<circle clip-path=\"url(#clip7702)\" style=\"fill:#000000; stroke:none; fill-opacity:1\" cx=\"914.779\" cy=\"996.631\" r=\"21\"/>\n",
       "<circle clip-path=\"url(#clip7702)\" style=\"fill:#009af9; stroke:none; fill-opacity:1\" cx=\"914.779\" cy=\"996.631\" r=\"18\"/>\n",
       "<circle clip-path=\"url(#clip7702)\" style=\"fill:#000000; stroke:none; fill-opacity:1\" cx=\"1189.81\" cy=\"1174.71\" r=\"21\"/>\n",
       "<circle clip-path=\"url(#clip7702)\" style=\"fill:#009af9; stroke:none; fill-opacity:1\" cx=\"1189.81\" cy=\"1174.71\" r=\"18\"/>\n",
       "<circle clip-path=\"url(#clip7702)\" style=\"fill:#000000; stroke:none; fill-opacity:1\" cx=\"1974.13\" cy=\"532.028\" r=\"21\"/>\n",
       "<circle clip-path=\"url(#clip7702)\" style=\"fill:#009af9; stroke:none; fill-opacity:1\" cx=\"1974.13\" cy=\"532.028\" r=\"18\"/>\n",
       "<circle clip-path=\"url(#clip7702)\" style=\"fill:#000000; stroke:none; fill-opacity:1\" cx=\"2027.44\" cy=\"900.773\" r=\"21\"/>\n",
       "<circle clip-path=\"url(#clip7702)\" style=\"fill:#009af9; stroke:none; fill-opacity:1\" cx=\"2027.44\" cy=\"900.773\" r=\"18\"/>\n",
       "<circle clip-path=\"url(#clip7702)\" style=\"fill:#000000; stroke:none; fill-opacity:1\" cx=\"1031.08\" cy=\"735.57\" r=\"21\"/>\n",
       "<circle clip-path=\"url(#clip7702)\" style=\"fill:#009af9; stroke:none; fill-opacity:1\" cx=\"1031.08\" cy=\"735.57\" r=\"18\"/>\n",
       "<circle clip-path=\"url(#clip7702)\" style=\"fill:#000000; stroke:none; fill-opacity:1\" cx=\"1010.66\" cy=\"910.826\" r=\"21\"/>\n",
       "<circle clip-path=\"url(#clip7702)\" style=\"fill:#009af9; stroke:none; fill-opacity:1\" cx=\"1010.66\" cy=\"910.826\" r=\"18\"/>\n",
       "<circle clip-path=\"url(#clip7702)\" style=\"fill:#000000; stroke:none; fill-opacity:1\" cx=\"1418.42\" cy=\"88.0053\" r=\"21\"/>\n",
       "<circle clip-path=\"url(#clip7702)\" style=\"fill:#009af9; stroke:none; fill-opacity:1\" cx=\"1418.42\" cy=\"88.0053\" r=\"18\"/>\n",
       "<circle clip-path=\"url(#clip7702)\" style=\"fill:#000000; stroke:none; fill-opacity:1\" cx=\"1427.73\" cy=\"534.418\" r=\"21\"/>\n",
       "<circle clip-path=\"url(#clip7702)\" style=\"fill:#009af9; stroke:none; fill-opacity:1\" cx=\"1427.73\" cy=\"534.418\" r=\"18\"/>\n",
       "<circle clip-path=\"url(#clip7702)\" style=\"fill:#000000; stroke:none; fill-opacity:1\" cx=\"707.564\" cy=\"583.256\" r=\"21\"/>\n",
       "<circle clip-path=\"url(#clip7702)\" style=\"fill:#009af9; stroke:none; fill-opacity:1\" cx=\"707.564\" cy=\"583.256\" r=\"18\"/>\n",
       "<circle clip-path=\"url(#clip7702)\" style=\"fill:#000000; stroke:none; fill-opacity:1\" cx=\"1142.2\" cy=\"479.534\" r=\"21\"/>\n",
       "<circle clip-path=\"url(#clip7702)\" style=\"fill:#009af9; stroke:none; fill-opacity:1\" cx=\"1142.2\" cy=\"479.534\" r=\"18\"/>\n",
       "<circle clip-path=\"url(#clip7702)\" style=\"fill:#000000; stroke:none; fill-opacity:1\" cx=\"764.549\" cy=\"1018.63\" r=\"21\"/>\n",
       "<circle clip-path=\"url(#clip7702)\" style=\"fill:#009af9; stroke:none; fill-opacity:1\" cx=\"764.549\" cy=\"1018.63\" r=\"18\"/>\n",
       "<circle clip-path=\"url(#clip7702)\" style=\"fill:#000000; stroke:none; fill-opacity:1\" cx=\"469.012\" cy=\"1256.59\" r=\"21\"/>\n",
       "<circle clip-path=\"url(#clip7702)\" style=\"fill:#009af9; stroke:none; fill-opacity:1\" cx=\"469.012\" cy=\"1256.59\" r=\"18\"/>\n",
       "<circle clip-path=\"url(#clip7702)\" style=\"fill:#000000; stroke:none; fill-opacity:1\" cx=\"948.837\" cy=\"786.45\" r=\"21\"/>\n",
       "<circle clip-path=\"url(#clip7702)\" style=\"fill:#009af9; stroke:none; fill-opacity:1\" cx=\"948.837\" cy=\"786.45\" r=\"18\"/>\n",
       "<circle clip-path=\"url(#clip7702)\" style=\"fill:#000000; stroke:none; fill-opacity:1\" cx=\"1842.11\" cy=\"788.332\" r=\"21\"/>\n",
       "<circle clip-path=\"url(#clip7702)\" style=\"fill:#009af9; stroke:none; fill-opacity:1\" cx=\"1842.11\" cy=\"788.332\" r=\"18\"/>\n",
       "<circle clip-path=\"url(#clip7702)\" style=\"fill:#000000; stroke:none; fill-opacity:1\" cx=\"256.447\" cy=\"697.396\" r=\"21\"/>\n",
       "<circle clip-path=\"url(#clip7702)\" style=\"fill:#009af9; stroke:none; fill-opacity:1\" cx=\"256.447\" cy=\"697.396\" r=\"18\"/>\n",
       "<circle clip-path=\"url(#clip7702)\" style=\"fill:#000000; stroke:none; fill-opacity:1\" cx=\"1372.52\" cy=\"651.268\" r=\"21\"/>\n",
       "<circle clip-path=\"url(#clip7702)\" style=\"fill:#009af9; stroke:none; fill-opacity:1\" cx=\"1372.52\" cy=\"651.268\" r=\"18\"/>\n",
       "<circle clip-path=\"url(#clip7702)\" style=\"fill:#000000; stroke:none; fill-opacity:1\" cx=\"803.244\" cy=\"994.362\" r=\"21\"/>\n",
       "<circle clip-path=\"url(#clip7702)\" style=\"fill:#009af9; stroke:none; fill-opacity:1\" cx=\"803.244\" cy=\"994.362\" r=\"18\"/>\n",
       "<circle clip-path=\"url(#clip7702)\" style=\"fill:#000000; stroke:none; fill-opacity:1\" cx=\"1371.52\" cy=\"383.002\" r=\"21\"/>\n",
       "<circle clip-path=\"url(#clip7702)\" style=\"fill:#009af9; stroke:none; fill-opacity:1\" cx=\"1371.52\" cy=\"383.002\" r=\"18\"/>\n",
       "<circle clip-path=\"url(#clip7702)\" style=\"fill:#000000; stroke:none; fill-opacity:1\" cx=\"1095.65\" cy=\"836.686\" r=\"21\"/>\n",
       "<circle clip-path=\"url(#clip7702)\" style=\"fill:#009af9; stroke:none; fill-opacity:1\" cx=\"1095.65\" cy=\"836.686\" r=\"18\"/>\n",
       "<circle clip-path=\"url(#clip7702)\" style=\"fill:#000000; stroke:none; fill-opacity:1\" cx=\"770.882\" cy=\"1265.36\" r=\"21\"/>\n",
       "<circle clip-path=\"url(#clip7702)\" style=\"fill:#009af9; stroke:none; fill-opacity:1\" cx=\"770.882\" cy=\"1265.36\" r=\"18\"/>\n",
       "<circle clip-path=\"url(#clip7702)\" style=\"fill:#000000; stroke:none; fill-opacity:1\" cx=\"1138.61\" cy=\"383.347\" r=\"21\"/>\n",
       "<circle clip-path=\"url(#clip7702)\" style=\"fill:#009af9; stroke:none; fill-opacity:1\" cx=\"1138.61\" cy=\"383.347\" r=\"18\"/>\n",
       "<circle clip-path=\"url(#clip7702)\" style=\"fill:#000000; stroke:none; fill-opacity:1\" cx=\"1553.71\" cy=\"439.56\" r=\"21\"/>\n",
       "<circle clip-path=\"url(#clip7702)\" style=\"fill:#009af9; stroke:none; fill-opacity:1\" cx=\"1553.71\" cy=\"439.56\" r=\"18\"/>\n",
       "<circle clip-path=\"url(#clip7702)\" style=\"fill:#000000; stroke:none; fill-opacity:1\" cx=\"2291.7\" cy=\"867.666\" r=\"21\"/>\n",
       "<circle clip-path=\"url(#clip7702)\" style=\"fill:#009af9; stroke:none; fill-opacity:1\" cx=\"2291.7\" cy=\"867.666\" r=\"18\"/>\n",
       "<circle clip-path=\"url(#clip7702)\" style=\"fill:#000000; stroke:none; fill-opacity:1\" cx=\"990.471\" cy=\"1298.71\" r=\"21\"/>\n",
       "<circle clip-path=\"url(#clip7702)\" style=\"fill:#009af9; stroke:none; fill-opacity:1\" cx=\"990.471\" cy=\"1298.71\" r=\"18\"/>\n",
       "<circle clip-path=\"url(#clip7702)\" style=\"fill:#000000; stroke:none; fill-opacity:1\" cx=\"1185.79\" cy=\"1065.76\" r=\"21\"/>\n",
       "<circle clip-path=\"url(#clip7702)\" style=\"fill:#009af9; stroke:none; fill-opacity:1\" cx=\"1185.79\" cy=\"1065.76\" r=\"18\"/>\n",
       "<circle clip-path=\"url(#clip7702)\" style=\"fill:#000000; stroke:none; fill-opacity:1\" cx=\"951.213\" cy=\"840.287\" r=\"21\"/>\n",
       "<circle clip-path=\"url(#clip7702)\" style=\"fill:#009af9; stroke:none; fill-opacity:1\" cx=\"951.213\" cy=\"840.287\" r=\"18\"/>\n",
       "<circle clip-path=\"url(#clip7702)\" style=\"fill:#000000; stroke:none; fill-opacity:1\" cx=\"1344.79\" cy=\"1145.71\" r=\"21\"/>\n",
       "<circle clip-path=\"url(#clip7702)\" style=\"fill:#009af9; stroke:none; fill-opacity:1\" cx=\"1344.79\" cy=\"1145.71\" r=\"18\"/>\n",
       "<circle clip-path=\"url(#clip7702)\" style=\"fill:#000000; stroke:none; fill-opacity:1\" cx=\"883.798\" cy=\"719.995\" r=\"21\"/>\n",
       "<circle clip-path=\"url(#clip7702)\" style=\"fill:#009af9; stroke:none; fill-opacity:1\" cx=\"883.798\" cy=\"719.995\" r=\"18\"/>\n",
       "<circle clip-path=\"url(#clip7702)\" style=\"fill:#000000; stroke:none; fill-opacity:1\" cx=\"793.212\" cy=\"1093.57\" r=\"21\"/>\n",
       "<circle clip-path=\"url(#clip7702)\" style=\"fill:#009af9; stroke:none; fill-opacity:1\" cx=\"793.212\" cy=\"1093.57\" r=\"18\"/>\n",
       "<circle clip-path=\"url(#clip7702)\" style=\"fill:#000000; stroke:none; fill-opacity:1\" cx=\"1438.21\" cy=\"527.78\" r=\"21\"/>\n",
       "<circle clip-path=\"url(#clip7702)\" style=\"fill:#009af9; stroke:none; fill-opacity:1\" cx=\"1438.21\" cy=\"527.78\" r=\"18\"/>\n",
       "<circle clip-path=\"url(#clip7702)\" style=\"fill:#000000; stroke:none; fill-opacity:1\" cx=\"1548.17\" cy=\"682.678\" r=\"21\"/>\n",
       "<circle clip-path=\"url(#clip7702)\" style=\"fill:#009af9; stroke:none; fill-opacity:1\" cx=\"1548.17\" cy=\"682.678\" r=\"18\"/>\n",
       "<circle clip-path=\"url(#clip7702)\" style=\"fill:#000000; stroke:none; fill-opacity:1\" cx=\"896.665\" cy=\"688.753\" r=\"21\"/>\n",
       "<circle clip-path=\"url(#clip7702)\" style=\"fill:#009af9; stroke:none; fill-opacity:1\" cx=\"896.665\" cy=\"688.753\" r=\"18\"/>\n",
       "<circle clip-path=\"url(#clip7702)\" style=\"fill:#000000; stroke:none; fill-opacity:1\" cx=\"1097.4\" cy=\"706.731\" r=\"21\"/>\n",
       "<circle clip-path=\"url(#clip7702)\" style=\"fill:#009af9; stroke:none; fill-opacity:1\" cx=\"1097.4\" cy=\"706.731\" r=\"18\"/>\n",
       "<circle clip-path=\"url(#clip7702)\" style=\"fill:#000000; stroke:none; fill-opacity:1\" cx=\"1008.53\" cy=\"734.355\" r=\"21\"/>\n",
       "<circle clip-path=\"url(#clip7702)\" style=\"fill:#009af9; stroke:none; fill-opacity:1\" cx=\"1008.53\" cy=\"734.355\" r=\"18\"/>\n",
       "<circle clip-path=\"url(#clip7702)\" style=\"fill:#000000; stroke:none; fill-opacity:1\" cx=\"494.726\" cy=\"702.522\" r=\"21\"/>\n",
       "<circle clip-path=\"url(#clip7702)\" style=\"fill:#009af9; stroke:none; fill-opacity:1\" cx=\"494.726\" cy=\"702.522\" r=\"18\"/>\n",
       "<circle clip-path=\"url(#clip7702)\" style=\"fill:#000000; stroke:none; fill-opacity:1\" cx=\"1158.22\" cy=\"867.296\" r=\"21\"/>\n",
       "<circle clip-path=\"url(#clip7702)\" style=\"fill:#009af9; stroke:none; fill-opacity:1\" cx=\"1158.22\" cy=\"867.296\" r=\"18\"/>\n",
       "<circle clip-path=\"url(#clip7702)\" style=\"fill:#000000; stroke:none; fill-opacity:1\" cx=\"2086.1\" cy=\"1009.71\" r=\"21\"/>\n",
       "<circle clip-path=\"url(#clip7702)\" style=\"fill:#009af9; stroke:none; fill-opacity:1\" cx=\"2086.1\" cy=\"1009.71\" r=\"18\"/>\n",
       "<circle clip-path=\"url(#clip7702)\" style=\"fill:#000000; stroke:none; fill-opacity:1\" cx=\"1508.48\" cy=\"991.489\" r=\"21\"/>\n",
       "<circle clip-path=\"url(#clip7702)\" style=\"fill:#009af9; stroke:none; fill-opacity:1\" cx=\"1508.48\" cy=\"991.489\" r=\"18\"/>\n",
       "<circle clip-path=\"url(#clip7702)\" style=\"fill:#000000; stroke:none; fill-opacity:1\" cx=\"1651.67\" cy=\"1027.68\" r=\"21\"/>\n",
       "<circle clip-path=\"url(#clip7702)\" style=\"fill:#009af9; stroke:none; fill-opacity:1\" cx=\"1651.67\" cy=\"1027.68\" r=\"18\"/>\n",
       "<circle clip-path=\"url(#clip7702)\" style=\"fill:#000000; stroke:none; fill-opacity:1\" cx=\"1502.87\" cy=\"642.385\" r=\"21\"/>\n",
       "<circle clip-path=\"url(#clip7702)\" style=\"fill:#009af9; stroke:none; fill-opacity:1\" cx=\"1502.87\" cy=\"642.385\" r=\"18\"/>\n",
       "<circle clip-path=\"url(#clip7702)\" style=\"fill:#000000; stroke:none; fill-opacity:1\" cx=\"1345.74\" cy=\"560.667\" r=\"21\"/>\n",
       "<circle clip-path=\"url(#clip7702)\" style=\"fill:#009af9; stroke:none; fill-opacity:1\" cx=\"1345.74\" cy=\"560.667\" r=\"18\"/>\n",
       "<polygon clip-path=\"url(#clip7700)\" points=\"\n",
       "1989.93,251.724 2280.76,251.724 2280.76,130.764 1989.93,130.764 \n",
       "  \" fill=\"#ffffff\" fill-rule=\"evenodd\" fill-opacity=\"1\"/>\n",
       "<polyline clip-path=\"url(#clip7700)\" style=\"stroke:#000000; stroke-width:4; stroke-opacity:1; fill:none\" points=\"\n",
       "  1989.93,251.724 2280.76,251.724 2280.76,130.764 1989.93,130.764 1989.93,251.724 \n",
       "  \"/>\n",
       "<circle clip-path=\"url(#clip7700)\" style=\"fill:#000000; stroke:none; fill-opacity:1\" cx=\"2097.93\" cy=\"191.244\" r=\"25\"/>\n",
       "<circle clip-path=\"url(#clip7700)\" style=\"fill:#009af9; stroke:none; fill-opacity:1\" cx=\"2097.93\" cy=\"191.244\" r=\"21\"/>\n",
       "<g clip-path=\"url(#clip7700)\">\n",
       "<text style=\"fill:#000000; fill-opacity:1; font-family:Arial,Helvetica Neue,Helvetica,sans-serif; font-size:48px; text-anchor:start;\" transform=\"rotate(0, 2181.93, 208.744)\" x=\"2181.93\" y=\"208.744\">y1</text>\n",
       "</g>\n",
       "</svg>\n"
      ]
     },
     "execution_count": 13,
     "metadata": {},
     "output_type": "execute_result"
    }
   ],
   "source": [
    "# Boid インスタンスの数\n",
    "BOID_NUM = 50;\n",
    "\n",
    "# Boid ライフイベント数\n",
    "BOID_LIFE_TIME = 2000;\n",
    "\n",
    "# Boidsインスタンスの宣言、生成実施\n",
    "Boids = Array{boid}(undef, BOID_NUM);\n",
    "\n",
    "# Boids インスタンスの初期化実施\n",
    "initial_boid(Boids, BOID_NUM);\n",
    "\n",
    "X = [boid.pos[1] for boid in Boids]\n",
    "Y = [boid.pos[2] for boid in Boids]\n",
    "\n",
    "plot(X, Y, st=:scatter, markersize=5)"
   ]
  },
  {
   "cell_type": "code",
   "execution_count": 14,
   "metadata": {
    "scrolled": false
   },
   "outputs": [
    {
     "name": "stdout",
     "output_type": "stream",
     "text": [
      "0\n",
      "1000\n",
      "2000\n"
     ]
    }
   ],
   "source": [
    "i = 0;\n",
    "\n",
    "anim = Animation();\n",
    "\n",
    "xmin = min(Int(round(minimum(X))),  9999);\n",
    "xmax = max(Int(round(maximum(X))), -9999);\n",
    "\n",
    "ymin = min(Int(round(minimum(Y))),  9999);\n",
    "ymax = max(Int(round(maximum(Y))), -9999);\n",
    "\n",
    "life_span_unit = 1000;\n",
    "\n",
    "while i <= BOID_LIFE_TIME\n",
    "    \n",
    "    if i % life_span_unit == 0\n",
    "        println(i);\n",
    "    end\n",
    "    \n",
    "    # Boidsの状態を更新\n",
    "    decide_boid_action(Boids, 0.1);\n",
    "    \n",
    "    X = [boid.pos[1] for boid in Boids];\n",
    "    Y = [boid.pos[2] for boid in Boids];\n",
    "   \n",
    "    global xmin = - 1000 + median(X);\n",
    "    global xmax =   1000 + median(X);\n",
    "\n",
    "    global ymin = - 1000 + median(Y);\n",
    "    global ymax =   1000 + median(Y);\n",
    "    \n",
    "    plt = plot(X, Y, st=:scatter, xlims=(xmin,xmax), ylims=(ymin,ymax), markersize=5)\n",
    "    \n",
    "    frame(anim, plt);\n",
    "    \n",
    "    i = i + 1;\n",
    "end"
   ]
  },
  {
   "cell_type": "code",
   "execution_count": 15,
   "metadata": {
    "scrolled": true
   },
   "outputs": [
    {
     "name": "stderr",
     "output_type": "stream",
     "text": [
      "┌ Info: Saved animation to \n",
      "│   fn = C:\\Users\\k3ijo\\project\\bois_movement.gif\n",
      "└ @ Plots C:\\Users\\k3ijo\\.julia\\packages\\Plots\\oiirH\\src\\animation.jl:90\n"
     ]
    },
    {
     "data": {
      "text/html": [
       "<img src=\"bois_movement.gif\" />"
      ],
      "text/plain": [
       "Plots.AnimatedGif(\"C:\\\\Users\\\\k3ijo\\\\project\\\\bois_movement.gif\")"
      ]
     },
     "execution_count": 15,
     "metadata": {},
     "output_type": "execute_result"
    }
   ],
   "source": [
    "gif(anim, \"bois_movement.gif\", fps = 120)"
   ]
  },
  {
   "cell_type": "code",
   "execution_count": null,
   "metadata": {},
   "outputs": [],
   "source": []
  },
  {
   "cell_type": "code",
   "execution_count": null,
   "metadata": {},
   "outputs": [],
   "source": []
  },
  {
   "cell_type": "code",
   "execution_count": null,
   "metadata": {},
   "outputs": [],
   "source": []
  },
  {
   "cell_type": "code",
   "execution_count": null,
   "metadata": {},
   "outputs": [],
   "source": []
  }
 ],
 "metadata": {
  "@webio": {
   "lastCommId": null,
   "lastKernelId": null
  },
  "kernelspec": {
   "display_name": "Julia 1.1.0",
   "language": "julia",
   "name": "julia-1.1"
  },
  "language_info": {
   "file_extension": ".jl",
   "mimetype": "application/julia",
   "name": "julia",
   "version": "1.1.0"
  }
 },
 "nbformat": 4,
 "nbformat_minor": 2
}
